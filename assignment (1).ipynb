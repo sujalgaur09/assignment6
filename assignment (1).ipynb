{
 "cells": [
  {
   "cell_type": "code",
   "execution_count": 2,
   "id": "c48d9e03-1347-4855-8d50-c7c3b19670fe",
   "metadata": {},
   "outputs": [
    {
     "name": "stdout",
     "output_type": "stream",
     "text": [
      "ANSWER1\n",
      "CLASS = A class is a user-defined blueprint or prototype from which objects are created. Classes provide a means of bundling data and functionality together. Creating a new class creates a new type of object, allowing new instances of that type to be made. Each class instance can have attributes attached to it for maintaining its state. Class instances can also have methods (defined by their class) for modifying their state.\n",
      "OBJECT =An Object is an instance of a Class. A class is like a blueprint while an instance is a copy of the class with actual values.When an object of a class is created, the class is said to be instantiated. All the instances share the attributes and the behavior of the class. But the values of those attributes, i.e. the state are unique for each object. A single class may have any number of instances. \n"
     ]
    }
   ],
   "source": [
    "print(\"\"\"ANSWER1\n",
    "CLASS = A class is a user-defined blueprint or prototype from which objects are created. Classes provide a means of bundling data and functionality together. Creating a new class creates a new type of object, allowing new instances of that type to be made. Each class instance can have attributes attached to it for maintaining its state. Class instances can also have methods (defined by their class) for modifying their state.\n",
    "OBJECT =An Object is an instance of a Class. A class is like a blueprint while an instance is a copy of the class with actual values.When an object of a class is created, the class is said to be instantiated. All the instances share the attributes and the behavior of the class. But the values of those attributes, i.e. the state are unique for each object. A single class may have any number of instances. \"\"\")"
   ]
  },
  {
   "cell_type": "code",
   "execution_count": 5,
   "id": "88d47aee-0d96-4179-9eb6-9ff20ed49b0b",
   "metadata": {},
   "outputs": [],
   "source": [
    "##example of class \n",
    "a = 1"
   ]
  },
  {
   "cell_type": "code",
   "execution_count": 6,
   "id": "c915d666-ea82-4a17-9187-dd1833f2ffbb",
   "metadata": {},
   "outputs": [
    {
     "name": "stdout",
     "output_type": "stream",
     "text": [
      "<class 'int'>\n"
     ]
    }
   ],
   "source": [
    "print(type(a))"
   ]
  },
  {
   "cell_type": "code",
   "execution_count": 8,
   "id": "d297c357-f884-40eb-9b05-b1896183372b",
   "metadata": {},
   "outputs": [],
   "source": [
    "##example of object\n",
    "class pwskills:\n",
    "    def welcome_message(self):\n",
    "        print(\"welcome to pw skills\")\n",
    "        "
   ]
  },
  {
   "cell_type": "code",
   "execution_count": 10,
   "id": "c922c381-bca3-44b0-bdbd-6da34326f43a",
   "metadata": {},
   "outputs": [],
   "source": [
    "sujal = pwskills()"
   ]
  },
  {
   "cell_type": "code",
   "execution_count": 11,
   "id": "c61e7c8f-289e-433a-aa3d-fcacd60a5835",
   "metadata": {},
   "outputs": [
    {
     "name": "stdout",
     "output_type": "stream",
     "text": [
      "welcome to pw skills\n"
     ]
    }
   ],
   "source": [
    "sujal.welcome_message()"
   ]
  },
  {
   "cell_type": "code",
   "execution_count": 12,
   "id": "a8b0ba79-cace-475c-a94b-06a213830b95",
   "metadata": {},
   "outputs": [
    {
     "name": "stdout",
     "output_type": "stream",
     "text": [
      "ANSWER2\n",
      "the four pillar of oop's are\n",
      "1)Inheritance\n",
      "2)Polymorphism\n",
      "3)Encapsulation\n",
      "4)Abstraction\n"
     ]
    }
   ],
   "source": [
    "print(\"\"\"ANSWER2\n",
    "the four pillar of oop's are\n",
    "1)Inheritance\n",
    "2)Polymorphism\n",
    "3)Encapsulation\n",
    "4)Abstraction\"\"\")"
   ]
  },
  {
   "cell_type": "code",
   "execution_count": 11,
   "id": "8b03defd-9a87-4ee9-a9f7-1403c42c6dc2",
   "metadata": {},
   "outputs": [
    {
     "name": "stdout",
     "output_type": "stream",
     "text": [
      "ANSWER3\n",
      "__init__ is one of the reserved methods in Python. In object oriented programming, it is known as a constructor. The __init__ method can be called when an object is created from the class, and access is required to initialize the attributes of the class.\n"
     ]
    }
   ],
   "source": [
    "print(\"\"\"ANSWER3\n",
    "__init__ is one of the reserved methods in Python. In object oriented programming, it is known as a constructor. The __init__ method can be called when an object is created from the class, and access is required to initialize the attributes of the class.\"\"\")"
   ]
  },
  {
   "cell_type": "code",
   "execution_count": 12,
   "id": "53660d31-489b-4bcf-bc11-3124f68652c2",
   "metadata": {},
   "outputs": [],
   "source": [
    "##example of init funtion\n",
    "class car :\n",
    "    def __init__(self , color ,model ,average):\n",
    "        self.color = color\n",
    "        self.model = model\n",
    "        self.average = average\n",
    "    def return_car_details(self):\n",
    "        return self.color , self.model ,self.average\n",
    "    "
   ]
  },
  {
   "cell_type": "code",
   "execution_count": 13,
   "id": "e4481907-5d95-4f52-85de-e4c25192df19",
   "metadata": {},
   "outputs": [],
   "source": [
    "hundayi = car(\"white\" , \"santro\" ,17)"
   ]
  },
  {
   "cell_type": "code",
   "execution_count": 14,
   "id": "ff602ed8-1e36-49dd-8691-6934eb64a140",
   "metadata": {},
   "outputs": [
    {
     "data": {
      "text/plain": [
       "'white'"
      ]
     },
     "execution_count": 14,
     "metadata": {},
     "output_type": "execute_result"
    }
   ],
   "source": [
    "hundayi.color"
   ]
  },
  {
   "cell_type": "code",
   "execution_count": 15,
   "id": "8f9cb372-e5ea-4c16-b9ed-fec2ccc55923",
   "metadata": {},
   "outputs": [
    {
     "data": {
      "text/plain": [
       "'santro'"
      ]
     },
     "execution_count": 15,
     "metadata": {},
     "output_type": "execute_result"
    }
   ],
   "source": [
    "hundayi.model"
   ]
  },
  {
   "cell_type": "code",
   "execution_count": 16,
   "id": "ba0361e6-d952-44a8-8c61-4c1cb95d19d5",
   "metadata": {},
   "outputs": [
    {
     "data": {
      "text/plain": [
       "17"
      ]
     },
     "execution_count": 16,
     "metadata": {},
     "output_type": "execute_result"
    }
   ],
   "source": [
    "hundayi.average"
   ]
  },
  {
   "cell_type": "code",
   "execution_count": 18,
   "id": "cc2b1f07-384c-4e30-b7ad-76ba2271d159",
   "metadata": {},
   "outputs": [
    {
     "name": "stdout",
     "output_type": "stream",
     "text": [
      "\n",
      "ANSWER4=The self variable is used to represent the instance of the class which is often used in object-oriented programming. It works as a reference to the object. Python uses the self parameter to refer to instance attributes and methods of the class.\n",
      "By using the “self” we can access the attributes and methods of the class in python. It binds the attributes with the given arguments. The reason you need to use self. is because Python does not use the @ syntax to refer to instance attributes.\n"
     ]
    }
   ],
   "source": [
    "print(\"\"\"\n",
    "ANSWER4=The self variable is used to represent the instance of the class which is often used in object-oriented programming. It works as a reference to the object. Python uses the self parameter to refer to instance attributes and methods of the class.\n",
    "By using the “self” we can access the attributes and methods of the class in python. It binds the attributes with the given arguments. The reason you need to use self. is because Python does not use the @ syntax to refer to instance attributes.\"\"\")"
   ]
  },
  {
   "cell_type": "code",
   "execution_count": 21,
   "id": "76e8607f-fa5b-43c4-b5a8-6e52f73bb046",
   "metadata": {},
   "outputs": [
    {
     "name": "stdout",
     "output_type": "stream",
     "text": [
      "\n",
      "ANSWER5=\n",
      " INHERITANCE:When a class derives from another class. The child class will inherit all the public and protected properties and methods from the parent class. In addition, it can have its own properties and methods. An inherited class is defined by using the extends keyword.\n",
      " there are two types of inheritance\n",
      " 1)multilevel inheritance\n",
      " 2)multiple inheritance\n"
     ]
    }
   ],
   "source": [
    "print(\"\"\"\n",
    "ANSWER5=\n",
    " INHERITANCE:When a class derives from another class. The child class will inherit all the public and protected properties and methods from the parent class. In addition, it can have its own properties and methods. An inherited class is defined by using the extends keyword.\n",
    " there are two types of inheritance\n",
    " 1)multilevel inheritance\n",
    " 2)multiple inheritance\"\"\")"
   ]
  },
  {
   "cell_type": "code",
   "execution_count": 22,
   "id": "8e11c566-e8ba-43bd-b501-805941219ad3",
   "metadata": {},
   "outputs": [],
   "source": [
    "#example of multilevel inheritance\n",
    "class class1:\n",
    "    def test_class1(self):\n",
    "        return \" this is my first class\"\n",
    "    "
   ]
  },
  {
   "cell_type": "code",
   "execution_count": 23,
   "id": "585fcbec-961b-49eb-802a-379e31c2adc4",
   "metadata": {},
   "outputs": [],
   "source": [
    "class class2(class1):\n",
    "    def test_class2(self):\n",
    "        return \"this is my second class\""
   ]
  },
  {
   "cell_type": "code",
   "execution_count": 24,
   "id": "c9ac9044-c8f3-4920-9537-b4adc37181e4",
   "metadata": {},
   "outputs": [],
   "source": [
    "class class3(class2):\n",
    "    pass"
   ]
  },
  {
   "cell_type": "code",
   "execution_count": 25,
   "id": "aa94c289-7156-4bad-9744-cbe64625d256",
   "metadata": {},
   "outputs": [],
   "source": [
    "obj_class3 = class3()"
   ]
  },
  {
   "cell_type": "code",
   "execution_count": 26,
   "id": "b75294d3-5f3a-4164-bc53-d277af65732a",
   "metadata": {},
   "outputs": [
    {
     "data": {
      "text/plain": [
       "' this is my first class'"
      ]
     },
     "execution_count": 26,
     "metadata": {},
     "output_type": "execute_result"
    }
   ],
   "source": [
    "obj_class3.test_class1()"
   ]
  },
  {
   "cell_type": "code",
   "execution_count": 27,
   "id": "3ec548a1-955a-40d5-9b6f-1175f756f8dd",
   "metadata": {},
   "outputs": [
    {
     "data": {
      "text/plain": [
       "'this is my second class'"
      ]
     },
     "execution_count": 27,
     "metadata": {},
     "output_type": "execute_result"
    }
   ],
   "source": [
    "obj_class3.test_class2()"
   ]
  },
  {
   "cell_type": "code",
   "execution_count": 28,
   "id": "4af48d43-5a04-4a6d-b333-a88fd183291d",
   "metadata": {},
   "outputs": [],
   "source": [
    "#example of multiple inheritance\n",
    "class class1:\n",
    "    def test_class1(self):\n",
    "        return \"this is my first class\"\n",
    "    "
   ]
  },
  {
   "cell_type": "code",
   "execution_count": 30,
   "id": "45310bea-55d9-4a8b-9660-24ec4c0f3e52",
   "metadata": {},
   "outputs": [],
   "source": [
    "class class2:\n",
    "    def test_class2(self):\n",
    "        return \"this is my second class\""
   ]
  },
  {
   "cell_type": "code",
   "execution_count": 31,
   "id": "2632511b-1c1f-4cdc-a7da-f2076c3143ed",
   "metadata": {},
   "outputs": [],
   "source": [
    "class class3(class1 , class2):\n",
    "    pass"
   ]
  },
  {
   "cell_type": "code",
   "execution_count": 32,
   "id": "24602831-c3f6-4db9-8539-16e7bb784e66",
   "metadata": {},
   "outputs": [],
   "source": [
    "obj_class = class3()"
   ]
  },
  {
   "cell_type": "code",
   "execution_count": 33,
   "id": "ac3114fe-eedd-46b5-8809-d90adf1b53cb",
   "metadata": {},
   "outputs": [
    {
     "data": {
      "text/plain": [
       "'this is my first class'"
      ]
     },
     "execution_count": 33,
     "metadata": {},
     "output_type": "execute_result"
    }
   ],
   "source": [
    "obj_class.test_class1()"
   ]
  },
  {
   "cell_type": "code",
   "execution_count": 34,
   "id": "eaa85a47-4f9d-4275-a08f-f0fd190c4dc7",
   "metadata": {},
   "outputs": [
    {
     "data": {
      "text/plain": [
       "'this is my second class'"
      ]
     },
     "execution_count": 34,
     "metadata": {},
     "output_type": "execute_result"
    }
   ],
   "source": [
    "obj_class.test_class2()"
   ]
  },
  {
   "cell_type": "code",
   "execution_count": 35,
   "id": "56563fad-33c3-424e-835a-f0a5e09b380c",
   "metadata": {},
   "outputs": [
    {
     "name": "stdout",
     "output_type": "stream",
     "text": [
      "finish\n"
     ]
    }
   ],
   "source": [
    "print (\"finish\")"
   ]
  },
  {
   "cell_type": "code",
   "execution_count": null,
   "id": "0083078d-049d-4f2f-86f4-cbdb7e1a9f9e",
   "metadata": {},
   "outputs": [],
   "source": []
  }
 ],
 "metadata": {
  "kernelspec": {
   "display_name": "Python 3 (ipykernel)",
   "language": "python",
   "name": "python3"
  },
  "language_info": {
   "codemirror_mode": {
    "name": "ipython",
    "version": 3
   },
   "file_extension": ".py",
   "mimetype": "text/x-python",
   "name": "python",
   "nbconvert_exporter": "python",
   "pygments_lexer": "ipython3",
   "version": "3.10.8"
  }
 },
 "nbformat": 4,
 "nbformat_minor": 5
}
